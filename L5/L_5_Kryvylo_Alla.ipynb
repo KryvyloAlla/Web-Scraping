{
 "cells": [
  {
   "cell_type": "code",
   "execution_count": 1,
   "id": "4053948c",
   "metadata": {
    "scrolled": true
   },
   "outputs": [
    {
     "name": "stdout",
     "output_type": "stream",
     "text": [
      "Оброблені дані збережено у файлі news_topics.json\n"
     ]
    }
   ],
   "source": [
    "import requests\n",
    "from bs4 import BeautifulSoup\n",
    "import json\n",
    "\n",
    "url = \"https://www.bbc.com/sport\"\n",
    "response = requests.get(url)\n",
    "soup = BeautifulSoup(response.content, 'html.parser')\n",
    "news_links = []\n",
    "for promo in soup.find_all('p', class_='ssrcss-1nzemmm-PromoHeadline exn3ah96'):\n",
    "    link = promo.find_parent('a')['href']\n",
    "    if \"articles\" in link:\n",
    "        news_links.append(\"https://www.bbc.com\" + link)\n",
    "    if len(news_links) == 5:\n",
    "        break\n",
    "        \n",
    "news_list = []\n",
    "\n",
    "for link in news_links:\n",
    "    article_response = requests.get(link)\n",
    "    article_soup = BeautifulSoup(article_response.content, 'html.parser')\n",
    "    \n",
    "    related_topics = article_soup.find('div', class_='ssrcss-17ehax8-Cluster e1ihwmse1')\n",
    "    if related_topics:\n",
    "        topics = [a.text for a in related_topics.find_all('a', class_='ssrcss-1ef12hb-StyledLink ed0g1kj0')]\n",
    "    else:\n",
    "        topics = []\n",
    "    \n",
    "    news_item = {\n",
    "        \"Link\": link,\n",
    "        \"Topics\": topics\n",
    "    }\n",
    "    \n",
    "    news_list.append(news_item)\n",
    "\n",
    "with open('news_topics.json', 'w', encoding='utf-8') as f:\n",
    "    json.dump(news_list, f, ensure_ascii=False, indent=4)\n",
    "\n",
    "print(\"Оброблені дані збережено у файлі news_topics.json\")\n",
    "\n"
   ]
  },
  {
   "cell_type": "code",
   "execution_count": null,
   "id": "cf3079ef",
   "metadata": {},
   "outputs": [],
   "source": []
  }
 ],
 "metadata": {
  "kernelspec": {
   "display_name": "Python 3 (ipykernel)",
   "language": "python",
   "name": "python3"
  },
  "language_info": {
   "codemirror_mode": {
    "name": "ipython",
    "version": 3
   },
   "file_extension": ".py",
   "mimetype": "text/x-python",
   "name": "python",
   "nbconvert_exporter": "python",
   "pygments_lexer": "ipython3",
   "version": "3.11.4"
  }
 },
 "nbformat": 4,
 "nbformat_minor": 5
}
