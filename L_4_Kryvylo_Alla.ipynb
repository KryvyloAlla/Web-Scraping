{
 "cells": [
  {
   "cell_type": "code",
   "execution_count": 1,
   "id": "34fefeb2",
   "metadata": {
    "scrolled": true
   },
   "outputs": [
    {
     "name": "stdout",
     "output_type": "stream",
     "text": [
      "Список вакансій:\n",
      "[\n",
      "    {\n",
      "        \"url\": \"https://www.lejobadequat.com/emplois/247361-chef-dequipe-leader-mitry-mory-f-h-fr\",\n",
      "        \"title\": \"Chef d&#8217;equipe/leader &#8211; mitry mory  H/F\"\n",
      "    },\n",
      "    {\n",
      "        \"url\": \"https://www.lejobadequat.com/emplois/247360-cariste-1-3-5-f-h-fr\",\n",
      "        \"title\": \"Cariste 1 3 5  H/F\"\n",
      "    },\n",
      "    {\n",
      "        \"url\": \"https://www.lejobadequat.com/emplois/247359-manutentionnaire-logistique-f-h-fr\",\n",
      "        \"title\": \"Manutentionnaire logistique  H/F\"\n",
      "    },\n",
      "    {\n",
      "        \"url\": \"https://www.lejobadequat.com/emplois/247358-manutentionnaire-logistique-f-h-fr\",\n",
      "        \"title\": \"Manutentionnaire logistique  H/F\"\n",
      "    },\n",
      "    {\n",
      "        \"url\": \"https://www.lejobadequat.com/emplois/247357-cariste-1-3-5-f-h-fr\",\n",
      "        \"title\": \"Cariste 1 3 5  H/F\"\n",
      "    },\n",
      "    {\n",
      "        \"url\": \"https://www.lejobadequat.com/emplois/247356-cariste-c5-f-h-fr\",\n",
      "        \"title\": \"Cariste c5  H/F\"\n",
      "    },\n",
      "    {\n",
      "        \"url\": \"https://www.lejobadequat.com/emplois/247355-cariste-1-3-5-f-h-fr\",\n",
      "        \"title\": \"Cariste 1 3 5  H/F\"\n",
      "    },\n",
      "    {\n",
      "        \"url\": \"https://www.lejobadequat.com/emplois/247353-preparateur-de-commandes-f-h-fr\",\n",
      "        \"title\": \"Preparateur de commandes  H/F\"\n",
      "    },\n",
      "    {\n",
      "        \"url\": \"https://www.lejobadequat.com/emplois/247352-controleur-f-h-fr\",\n",
      "        \"title\": \"Controleur  H/F\"\n",
      "    },\n",
      "    {\n",
      "        \"url\": \"https://www.lejobadequat.com/emplois/247351-gestionnaire-de-stocks-f-h-fr\",\n",
      "        \"title\": \"Gestionnaire de stocks  H/F\"\n",
      "    },\n",
      "    {\n",
      "        \"url\": \"https://www.lejobadequat.com/emplois/247348-charpentier-f-h-fr\",\n",
      "        \"title\": \"Charpentier  H/F\"\n",
      "    },\n",
      "    {\n",
      "        \"url\": \"https://www.lejobadequat.com/emplois/247347-controleur-qualite-f-h-fr\",\n",
      "        \"title\": \"Controleur qualite  H/F\"\n",
      "    }\n",
      "]\n"
     ]
    }
   ],
   "source": [
    "import requests\n",
    "import re\n",
    "import json\n",
    "import sqlite3\n",
    "\n",
    "def use_get():\n",
    "    response = requests.get('https://www.lejobadequat.com/emplois')\n",
    "   # print('Status code:', response.status_code)\n",
    "   # print('Content HTML:', response.text)\n",
    "    pattern = r'<a href=\"([^\"]+)\"[^>]*title=\"([^\"]+)\" class=\"jobCard_link\"[^>]*>.*?<h3\\s+class=\"jobCard_title\">([^<]*)</h3>'\n",
    "    matches = re.findall(pattern, response.text, re.DOTALL)\n",
    "    results = [{'url': match[0], 'title': match[2]} for match in matches]\n",
    "    result_json = json.dumps(results, indent=4, ensure_ascii=False)\n",
    "    print('Список вакансій:')\n",
    "    print(result_json)\n",
    "    conn = sqlite3.connect('jobs.db')\n",
    "    cursor = conn.cursor()\n",
    "    cursor.execute('''\n",
    "        CREATE TABLE IF NOT EXISTS job_listings (\n",
    "            id INTEGER PRIMARY KEY AUTOINCREMENT,\n",
    "            job_title TEXT NOT NULL,\n",
    "            job_url TEXT NOT NULL\n",
    "        )\n",
    "    ''')\n",
    "\n",
    "    for job in results:\n",
    "        cursor.execute('INSERT INTO job_listings (job_title, job_url) VALUES (?, ?)', (job['title'], job['url']))\n",
    "    conn.commit()\n",
    "    conn.close()\n",
    "\n",
    "use_get()\n"
   ]
  },
  {
   "cell_type": "code",
   "execution_count": null,
   "id": "a938dff0",
   "metadata": {},
   "outputs": [],
   "source": []
  }
 ],
 "metadata": {
  "kernelspec": {
   "display_name": "Python 3 (ipykernel)",
   "language": "python",
   "name": "python3"
  },
  "language_info": {
   "codemirror_mode": {
    "name": "ipython",
    "version": 3
   },
   "file_extension": ".py",
   "mimetype": "text/x-python",
   "name": "python",
   "nbconvert_exporter": "python",
   "pygments_lexer": "ipython3",
   "version": "3.11.4"
  }
 },
 "nbformat": 4,
 "nbformat_minor": 5
}
