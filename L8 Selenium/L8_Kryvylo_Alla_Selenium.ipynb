{
 "cells": [
  {
   "cell_type": "code",
   "execution_count": 1,
   "id": "23de5e00",
   "metadata": {},
   "outputs": [
    {
     "name": "stdout",
     "output_type": "stream",
     "text": [
      "Found job title: Customer Assistant - Clothing & Home - Swindon Outlet New\n",
      "Found job title: Customer Assistant - Clothing & Home - Swindon Outlet New\n",
      "Found job title: Customer Assistant - Foods - West Cornwall\n",
      "Found job title: Customer Assistant - Foods - West Cornwall\n",
      "Found job title: Customer Assistant - Foods - Newport RP\n",
      "Found job title: Customer Assistant - Foods - Newport RP\n",
      "Found job title: Customer Assistant - Warehouse Operative - Douglas\n",
      "Found job title: Customer Assistant - Bank & Services - Cribbs Causeway\n",
      "Found job title: Customer Assistant - Clothing & Home - Bath\n",
      "Found job title: Customer Assistant - Clothing & Home - Bath\n",
      "Found job title: Customer Assistant - Clothing & Home - Bath\n",
      "Found job title: Customer Assistant - Backstage - Bath\n",
      "Found job title: Customer Assistant - Clothing & Home - Bath\n",
      "Found job title: Customer Assistant - Clothing & Home - Bath\n",
      "Found job title: Customer Assistant - Cafe - Culverhouse Cross\n",
      "Found job title: Customer Assistant - Foods - Through The Night - Cheshunt\n",
      "Found job title: Customer Assistant - Cafe - Bath\n",
      "Found job title: Customer Assistant - In-Store Bakery - Kingsgate\n",
      "Found job title: Customer Assistant- Foods- Aintree\n",
      "Found job title: Customer Assistant- Foods- Aintree\n"
     ]
    }
   ],
   "source": [
    "import json\n",
    "import time\n",
    "from selenium import webdriver\n",
    "from selenium.webdriver.chrome.service import Service\n",
    "from webdriver_manager.chrome import ChromeDriverManager\n",
    "from selenium.webdriver.common.by import By\n",
    "from selenium.webdriver.support.ui import WebDriverWait\n",
    "from selenium.webdriver.support import expected_conditions as EC\n",
    "\n",
    "def get_job_data(driver):\n",
    "    wait = WebDriverWait(driver, 10)\n",
    "    \n",
    "    job_titles = wait.until(EC.presence_of_all_elements_located((By.CSS_SELECTOR, \"h3.text-2xl.bold.mb-16\")))\n",
    "    \n",
    "    jobs = []\n",
    "    \n",
    "    for title_element in job_titles:\n",
    "        title = title_element.text\n",
    "        print(f\"Found job title: {title}\")\n",
    "        \n",
    "        try:\n",
    "            link_element = title_element.find_element(By.XPATH, \"//a[contains(@class, 'c-btn c-btn--primary | [ mt-16 | md.mt-0 ]')]\")\n",
    "            url = link_element.get_attribute(\"href\")\n",
    "            full_url = f\"https://jobs.marksandspencer.com{url}\" \n",
    "            jobs.append({\"title\": title, \"url\": full_url})\n",
    "        except Exception as e:\n",
    "            print(f\"Error finding link for job title '{title}': {e}\")\n",
    "    \n",
    "    return jobs\n",
    "\n",
    "driver = webdriver.Chrome(service=Service(ChromeDriverManager().install()))\n",
    "\n",
    "base_url = \"https://jobs.marksandspencer.com/job-search\"\n",
    "driver.get(base_url)\n",
    "jobs = get_job_data(driver)\n",
    "\n",
    "page_2_url = \"https://jobs.marksandspencer.com/job-search?country%5B0%5D=United%20Kingdom&page=2&radius=\"\n",
    "driver.get(page_2_url)\n",
    "time.sleep(3) \n",
    "jobs.extend(get_job_data(driver))\n",
    "\n",
    "driver.quit()\n",
    "\n",
    "with open(\"L8_jobs.json\", \"w\", encoding=\"utf-8\") as file:\n",
    "    json.dump(jobs, file, ensure_ascii=False, indent=4)\n"
   ]
  },
  {
   "cell_type": "code",
   "execution_count": null,
   "id": "94f8c89b",
   "metadata": {},
   "outputs": [],
   "source": []
  }
 ],
 "metadata": {
  "kernelspec": {
   "display_name": "Python 3 (ipykernel)",
   "language": "python",
   "name": "python3"
  },
  "language_info": {
   "codemirror_mode": {
    "name": "ipython",
    "version": 3
   },
   "file_extension": ".py",
   "mimetype": "text/x-python",
   "name": "python",
   "nbconvert_exporter": "python",
   "pygments_lexer": "ipython3",
   "version": "3.11.4"
  }
 },
 "nbformat": 4,
 "nbformat_minor": 5
}
